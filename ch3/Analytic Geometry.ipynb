{
 "cells": [
  {
   "cell_type": "markdown",
   "metadata": {},
   "source": [
    "# Analytic Geometry"
   ]
  },
  {
   "cell_type": "markdown",
   "metadata": {},
   "source": [
    "- 기하학적으로 해석, 직관적으로 이해하는 것을 목적 "
   ]
  },
  {
   "cell_type": "markdown",
   "metadata": {},
   "source": [
    "## Norms "
   ]
  },
  {
   "cell_type": "markdown",
   "metadata": {},
   "source": [
    "- vetoc의 시작에서 끝으로 나타내는것 \n",
    "    - vector의 길이를 표현한다\n",
    "    \n",
    "> manhattan norm(l1)\n",
    "> Euclidean norm(l2) \n",
    "\n",
    "- *보통은 Euclidean norm*을 Norm 이라고 부른다"
   ]
  },
  {
   "cell_type": "markdown",
   "metadata": {},
   "source": [
    "- ||* ||  : V -> R < 벡터에서 하나의 스칼라 값을 도출>\n",
    "- x --> ||x|| \n",
    "\n",
    "## 주요 공식\n",
    "- $ ||\\lambda x||$ = $||\\lambda||||x||$\n",
    "- ||x + y|| <= ||x|| + ||y||\n",
    "- ||x|| >= 0 and ||x|| =0 <-> x =0"
   ]
  },
  {
   "cell_type": "markdown",
   "metadata": {},
   "source": [
    "## Norms \n",
    "- 벡터의 길이\n",
    "- X $\\in R^n$\n",
    "\n",
    "### l1 norm\n",
    "||x||1 := $\\sum_{i=1}^n|x_i|$"
   ]
  },
  {
   "cell_type": "markdown",
   "metadata": {},
   "source": [
    "## l2 norm\n",
    "||x||2 := $\\sqrt {\\sum_{i=1}^n x_i^2}$ = $\\sqrt{x^Tx}$"
   ]
  },
  {
   "cell_type": "code",
   "execution_count": null,
   "metadata": {},
   "outputs": [],
   "source": []
  },
  {
   "cell_type": "markdown",
   "metadata": {},
   "source": [
    "# Inner Products\n",
    "- vector 사의 길이, 각도, 거리를 직관적으로 !\n",
    "- vector간의 orthogonal 관계를 도출한다"
   ]
  },
  {
   "cell_type": "markdown",
   "metadata": {},
   "source": [
    "### Dot Products (scalar product)\n",
    "- 두 벡터 간의 연산을 통해 하나의 scalar 값을 도출한다"
   ]
  },
  {
   "cell_type": "markdown",
   "metadata": {},
   "source": [
    "$x^Ty = \\sum_{i=1}^nx_iy_i$"
   ]
  },
  {
   "cell_type": "markdown",
   "metadata": {},
   "source": [
    "### General Inner Products \n",
    "- Bilinear mapping $\\Omega$\n",
    "    - 선형성을 가진 두 인자를 mapping 하는것 \n",
    "    - linear mapping 과 같이 scalar를 더하거나 곱할수 있다 (linear property)"
   ]
  },
  {
   "cell_type": "markdown",
   "metadata": {},
   "source": [
    "$ \\Omega(x,y) = \\Omega(y,x)$라면 $\\Omega$ 는 대칭이다"
   ]
  },
  {
   "cell_type": "markdown",
   "metadata": {},
   "source": [
    "### Vector space V에 대한 Inner Products "
   ]
  },
  {
   "cell_type": "markdown",
   "metadata": {},
   "source": [
    "- Positive definite, symmetric bilinear mapping $\\Omega :V *V ->R$\n",
    "- Vecotr Space V 에 대한 inner product라고 하며 \n",
    "- $\\Omega(x,y)$ 대신 <x, y>로 표현한다"
   ]
  },
  {
   "cell_type": "markdown",
   "metadata": {},
   "source": [
    "- (V, <*, *>)를 inner product space 혹 inner product의 vector space"
   ]
  },
  {
   "cell_type": "markdown",
   "metadata": {},
   "source": [
    "# Symmetric, Positive Definite Matrices"
   ]
  },
  {
   "cell_type": "markdown",
   "metadata": {},
   "source": [
    "- 머신러닝은 이둘로 이뤄져있다고 해도 과언이 아닌데.. \n",
    "- 둘다 innner product를 통해 정의 된다"
   ]
  },
  {
   "cell_type": "markdown",
   "metadata": {},
   "source": [
    "- n-Dimensional vector space V의 innner product <*, *>: V * V -> R"
   ]
  },
  {
   "cell_type": "markdown",
   "metadata": {},
   "source": [
    "Symmetric matix $\\supset$ positivre definite matrix"
   ]
  },
  {
   "cell_type": "markdown",
   "metadata": {},
   "source": [
    "<양의 정부호 행렬의 조건>\n",
    "\n",
    "1. 영이 아닌 모든 실수 벡터 x에 대해서 $x^TAx >0$ 을 만족한다.\n",
    "\n",
    "2. 행렬 A의 모든 고유값들이 0보다 크다.\n",
    "\n",
    "3. 행렬 A의 모든 서브행렬들(상위 왼쪽 서브행렬들)의 행렬식들이 0보다 크다.\n",
    "\n",
    "4. 행렬 A의 모든 피봇들이 0보다 크다.  \n",
    "\n",
    "5. A= $R^tR$인 독립 열들을 지닌 행렬 R이 존재한다. "
   ]
  },
  {
   "cell_type": "markdown",
   "metadata": {},
   "source": [
    "# 두 벡터 간의 각도 orthogonality"
   ]
  },
  {
   "cell_type": "markdown",
   "metadata": {},
   "source": [
    "$cos \\omega = \\frac{<x,y>}{||x||||y||}$"
   ]
  },
  {
   "cell_type": "markdown",
   "metadata": {},
   "source": [
    "- inner product를 통해 \n",
    "- inner product space에서 두 vector 간의 angle $\\omega$를 구할 수 있으며\n",
    "- 이를 통해 orthogonality 도출 가능 "
   ]
  },
  {
   "cell_type": "markdown",
   "metadata": {},
   "source": [
    "# Orthogonality \n",
    "- 두 vector가 <x,y> = 0 이라면 직교 하고 x $\\bot$ y 라고 한다 "
   ]
  },
  {
   "cell_type": "markdown",
   "metadata": {},
   "source": [
    "- 두 직교 하고 있는 vector x, y가 unit vector 라면 orthonormal 하다 \n",
    "- 0 벡터는 모든 벡터 스페이스에 모든 vector에 대해 orthogonal 하다 "
   ]
  },
  {
   "cell_type": "markdown",
   "metadata": {},
   "source": [
    "### columns 이 orthonormal 한 Square matrix A $\\in R^{m*n}$는\n",
    "$AA^T$ = I = $A^TA$ ==> $A^{-1}= A^t$"
   ]
  },
  {
   "cell_type": "markdown",
   "metadata": {},
   "source": [
    "- orthogonal matices 를 이용한 변환 이 특별한 이유는 \n",
    "- Vector x의 길이가 변하지 않음\n",
    "- 또한 angle w 또한 변하지 않는다"
   ]
  },
  {
   "cell_type": "markdown",
   "metadata": {},
   "source": [
    "- $||Ax||^2 = (Ax)^t(Ax) = x^tA^TAx = x^tIx = x^tx = ||x||^2$"
   ]
  },
  {
   "cell_type": "markdown",
   "metadata": {},
   "source": [
    "- cos w = $\\frac{(Ax)^T(Ax)}{||Ax||||Ay||}$ = $\\frac{x^T A^T Ay}{\\sqrt {x^T A^T Ax y^T A^T Ay}}$ = $\\frac{x^Ty}{||x||||y||}$\n"
   ]
  },
  {
   "cell_type": "markdown",
   "metadata": {},
   "source": [
    "# Orthonormal Basis\n",
    "- 각 basis가 서로 직교하고 길이가 1인 특수한 Basis vector 이다"
   ]
  },
  {
   "cell_type": "markdown",
   "metadata": {},
   "source": [
    "- n Dimensional Vector space V 와 basis {b1, .., bn} of V\n",
    "- $<b_i, b_j> = 0 $ for $i \\neq j (orthogonal)$\n",
    "- $<b_i, b_j> = 1 $ (length of each basis =1)"
   ]
  },
  {
   "cell_type": "markdown",
   "metadata": {},
   "source": [
    "> Gram-schmidt process\n",
    "- Non-orthogonal 길이가 1이 아닌 basis vector 를 orthonormal basis로 변환하는것\n",
    "- Gaussian elimination 사용됨"
   ]
  },
  {
   "cell_type": "markdown",
   "metadata": {},
   "source": [
    "# Orthogonal Complement"
   ]
  },
  {
   "cell_type": "markdown",
   "metadata": {},
   "source": [
    "- 어떤 벡터 v가 어떤 부분공간 W의 모든 벡터와 직교한다면 v는 W와 직교한다"
   ]
  },
  {
   "cell_type": "code",
   "execution_count": null,
   "metadata": {},
   "outputs": [],
   "source": []
  }
 ],
 "metadata": {
  "kernelspec": {
   "display_name": "Python 3",
   "language": "python",
   "name": "python3"
  },
  "language_info": {
   "codemirror_mode": {
    "name": "ipython",
    "version": 3
   },
   "file_extension": ".py",
   "mimetype": "text/x-python",
   "name": "python",
   "nbconvert_exporter": "python",
   "pygments_lexer": "ipython3",
   "version": "3.8.3"
  }
 },
 "nbformat": 4,
 "nbformat_minor": 4
}
