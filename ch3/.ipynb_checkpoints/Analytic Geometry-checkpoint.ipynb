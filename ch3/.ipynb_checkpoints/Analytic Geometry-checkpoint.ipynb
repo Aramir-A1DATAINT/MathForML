{
 "cells": [
  {
   "cell_type": "markdown",
   "metadata": {},
   "source": [
    "# Analytic Geometry\n",
    "- compute lengths and distances or angles between two vectors\n",
    "    - with vector space and inner product \n",
    "\n",
    "### inner product with norms and metrics \n",
    "- similarity and distances "
   ]
  },
  {
   "cell_type": "markdown",
   "metadata": {},
   "source": [
    "## Norms \n",
    "- geometirc vectors\n",
    "- length of a vector is distance of the end of this directed line segment from *origin*\n",
    "- **length of vector**"
   ]
  },
  {
   "cell_type": "markdown",
   "metadata": {},
   "source": [
    "### A norm on a vector space V\n",
    "- ||*||: V --> R\n",
    "- x --> ||x|| \n",
    "\n",
    "> Norms assigns each vector x to its length ||x|| $\\in$ R\n",
    "\n",
    "- $\\lambda \\in R$ x,y $\\in$ V following hold \n",
    "> 1. Absolutely homogeneous : $||\\lambda x|| = ||\\lambda|||x||$\n",
    "> 2. Triangle inequality: ||x + y|| $\\leq$ ||x|| + ||y||\n",
    "> 3. Positive definite: ||x|| $\\geq$ 0 and ||x|| = 0 <==> x= 0"
   ]
  },
  {
   "cell_type": "markdown",
   "metadata": {},
   "source": [
    "### Triangle inequality \n",
    "- any triangle sum of the lengths of any two sides must be greater than or equal to remaing length "
   ]
  },
  {
   "cell_type": "markdown",
   "metadata": {},
   "source": [
    "## Manhattan Norm\n",
    "> On $R^n$ and x $\\in R^n$\n",
    "\n",
    "## $||x||_1$ = $\\sum_{i=1}^{n}|x_i|$\n",
    "- |*| is absolute valie \n",
    "- called L1 norm \n",
    "\n",
    "### 그려보기\n",
    "- $x \\in R^2$ with $||x||_1 = 1$ <diamond> "
   ]
  },
  {
   "cell_type": "markdown",
   "metadata": {},
   "source": [
    "## Eucliedan Norm\n",
    "> $x \\in R^n$ \n",
    "\n",
    "### $||x||_2$ := $\\sqrt {\\sum_{i=1}^b x_i^2}$ = $\\sqrt{x^T x}$\n",
    "- Euclidean compute **distance of x from the origin**\n",
    "- l2 norm\n",
    "\n",
    "### 그려보기\n",
    "- $x \\in R^2$ with $||x||_2 = 1$ <diamond> "
   ]
  },
  {
   "cell_type": "markdown",
   "metadata": {},
   "source": [
    "## Inner Products"
   ]
  },
  {
   "cell_type": "markdown",
   "metadata": {},
   "source": [
    "- inner products allow intuitive geometrical concepts \n",
    "    - length of vector and angle or distance between two vectors \n",
    "\n",
    "### major purpose of inner products is determine whetehr vectors are orthogonal to each other "
   ]
  },
  {
   "cell_type": "markdown",
   "metadata": {},
   "source": [
    "## Dot Products \n",
    "- scalar/dot product in $R^n$ "
   ]
  },
  {
   "cell_type": "markdown",
   "metadata": {},
   "source": [
    "### $X^Ty = \\sum_{i=1}^{n}x_iy_i$"
   ]
  },
  {
   "cell_type": "markdown",
   "metadata": {},
   "source": [
    "## General Inner Products "
   ]
  },
  {
   "cell_type": "markdown",
   "metadata": {},
   "source": [
    "- A bilinear mapping $\\Omega$ is mapping with two arguments \n",
    "- it is linear in each argument \n",
    "\n",
    "> vector space V then it holds that x,y,z $\\in V$, $\\lambda , \\phi \\in R $"
   ]
  },
  {
   "cell_type": "markdown",
   "metadata": {},
   "source": [
    "### $\\Omega(\\lambda x + \\phi y, z) = \\lambda \\Omega(x, z) + \\phi \\Omega(y, z)$\n",
    "### $\\Omega(x, \\lambda y + \\phi z) = \\lambda \\Omega(x, z) + \\phi \\Omega(y, z)$"
   ]
  },
  {
   "cell_type": "markdown",
   "metadata": {},
   "source": [
    "# Billinear mapping \n",
    "- takes two vectors and map them onto a real number \n",
    "> V be a vector space and $\\Omega : V \\times V -> R$"
   ]
  },
  {
   "cell_type": "markdown",
   "metadata": {},
   "source": [
    "- Positive definite, symmetric bilinear mapping ($\\Omega$) : $V \\times V -> R$\n",
    "- Called inner product on V \n",
    "- <x, y> instead of $\\Omega(x, y)$\n",
    "\n",
    "- Pair (V, <*, *>) is called inner product space \n",
    "- Use dot product we call Euclidean vector space ($x^Ty$)"
   ]
  },
  {
   "cell_type": "markdown",
   "metadata": {},
   "source": [
    "## Inner Product That Not Dot Product\n",
    "> V = $R^2$ \n",
    "\n",
    "- <x, y> := $x_1 y_1 -(x_1y_1) - (x_1y_2 + x_2y_1)+ 2x_2y_2$"
   ]
  },
  {
   "cell_type": "markdown",
   "metadata": {},
   "source": [
    "- $<*,*>$ is inner product **BUT** different from dot product "
   ]
  },
  {
   "cell_type": "markdown",
   "metadata": {},
   "source": [
    "### Symmetric, porsitive Definite Matrices "
   ]
  },
  {
   "cell_type": "markdown",
   "metadata": {},
   "source": [
    "- ML : symmetric, positive definite matrix is important!\n",
    "- Both can defined via inner product\n",
    "\n",
    "- symmetric, positive definite matrices context of matrix decompositions and key for kernel"
   ]
  },
  {
   "cell_type": "markdown",
   "metadata": {},
   "source": [
    "> n-dimentional vector space V with inner product <*, *> : V $\\times$ V --> R\n",
    "\n",
    "> ordered basis B = (b1, b2, ... , bn) of V\n",
    "\n",
    "> any vectors x, y \\in V can be written as linear combinations of the basis vectors \n",
    "\n",
    "> x = $\\sum_{i=1}^n\\psi_ib_i \\in V$\n",
    "\n",
    "> y = $\\sum_{j=1}^n\\lambda_ib_i \\in V$"
   ]
  },
  {
   "cell_type": "markdown",
   "metadata": {},
   "source": [
    "### Due to bilinearity of inner product, \n",
    "- hold all x,y $\\in V$\n",
    "\n",
    "<x, y> = $\\sum_{i=1}^n\\psi_ib_i \\sum_{j=1}^n\\lambda_ib_i  = \\sum_{i=1}^n\\sum_{j=1}^n\\psi_i<b_i, b_j>\\lambda_j$ = $\\hat x^TA\\hat y$"
   ]
  },
  {
   "cell_type": "markdown",
   "metadata": {},
   "source": [
    "- $A_{ij} = <b_i, b_j>$ and $\\hat x, \\hat y$ are coordinates of x and y \n",
    "- inner product <*, *> uniquely detemined throught A\n",
    "- symmetry of inner product also means A is symetric "
   ]
  },
  {
   "cell_type": "markdown",
   "metadata": {},
   "source": [
    "### positive definiteness of the inner Product \n",
    "- $\\forall x \\in V\\diagdown{0}: x^TAx >0 $ "
   ]
  },
  {
   "cell_type": "code",
   "execution_count": 9,
   "metadata": {},
   "outputs": [],
   "source": [
    "# example 3.4"
   ]
  },
  {
   "cell_type": "markdown",
   "metadata": {},
   "source": [
    "- if A is symmetric, positive definite then\n",
    "### <x,y> = $\\hat x^T A \\hat y$\n",
    "- defines an inner porduct with respect to an ordered basis B\n",
    "- $\\hat x, \\hat y$ are coordinate representations of x,y $\\in$ V with respect to B"
   ]
  },
  {
   "cell_type": "markdown",
   "metadata": {},
   "source": [
    "## Lengths and Distances \n",
    "- Any inner product induces a norm\n",
    "- ||x|| := $\\sqrt{<x, x>}$"
   ]
  },
  {
   "cell_type": "markdown",
   "metadata": {},
   "source": [
    "> not every norm is induced by inner product : manhattan norm \n",
    "    \n",
    "> for inner product vector space |<x, y>| $\\leq$ ||x||||y|| : Cauchy-schwars inequality"
   ]
  },
  {
   "cell_type": "code",
   "execution_count": 13,
   "metadata": {},
   "outputs": [],
   "source": [
    "# example 3.5"
   ]
  },
  {
   "cell_type": "markdown",
   "metadata": {},
   "source": [
    "### Distance and Matric\n",
    "- Consider  inner product space\n",
    "- d(x,y):= ||x-y|| = $\\sqrt{<x-y, x-y>}$"
   ]
  },
  {
   "cell_type": "markdown",
   "metadata": {},
   "source": [
    "- Using dot product as inner product taht compute distance between x and y : Ecuclidean distance "
   ]
  },
  {
   "cell_type": "markdown",
   "metadata": {},
   "source": [
    "### metric  \n",
    "- d : V $\\times$ V -> R\n",
    "- (x, y) -> d(x, y)"
   ]
  },
  {
   "cell_type": "markdown",
   "metadata": {},
   "source": [
    "- d : postive definite d(x, y) >= 9 for all x,y $\\in$ V, d(x,y) =0 <=> x=y\n",
    "- d is symmetric : d(x,y) = d(y,x) for all x,y\n",
    "- Trianlge inequality d(x,z) <= d(x,y) + d(y,z) for all x,y,z $\\in$ V"
   ]
  },
  {
   "cell_type": "markdown",
   "metadata": {},
   "source": [
    "- inner product and metrics look similar no! "
   ]
  },
  {
   "cell_type": "markdown",
   "metadata": {},
   "source": [
    "## Angles and Orthogonality \n",
    "- inner products cpature geometry of vector space by defining anlge w between two vectors \n",
    "\n",
    "- |<x, y>| <= ||x||||y|| <Cauchy-schwarz inequality>\n",
    "- Assum x,y not 0 \n",
    "### -1<= $\\frac{<x,y>}{||x||||y||}$ <= 1"
   ]
  },
  {
   "cell_type": "markdown",
   "metadata": {},
   "source": [
    "- unique w $\\in$ [0, $\\pi$]\n",
    "\n",
    "### cosw = $\\frac{<x,y>}{||x||||y||}$"
   ]
  },
  {
   "cell_type": "code",
   "execution_count": 17,
   "metadata": {},
   "outputs": [],
   "source": [
    "# example 3.6"
   ]
  },
  {
   "cell_type": "markdown",
   "metadata": {},
   "source": [
    "## Orthogonal\n",
    "- <x, y> =0 orthogonal\n",
    "- ||x|| = 1 = ||y|| --> orthogomal"
   ]
  },
  {
   "cell_type": "markdown",
   "metadata": {},
   "source": [
    "- Vectors that orthogonal with respect to one inner product do not have to be orthogonal with others "
   ]
  },
  {
   "cell_type": "markdown",
   "metadata": {},
   "source": [
    "## Orthogonal Matrix \n",
    "- Square Matrix A is Orthogonal matrix if only columns are orthonormal each others \n",
    "- $AA^T = I = A^TA$\n",
    "- $A^{-1} = A^T$ "
   ]
  },
  {
   "cell_type": "markdown",
   "metadata": {},
   "source": [
    "## Orthonormal Basis"
   ]
  },
  {
   "cell_type": "markdown",
   "metadata": {},
   "source": [
    "> basis vectors are orthogonal to each other and length is 1 : orthonormal basis\n",
    "\n",
    "- $<b_i, b_j>$ = 0 for i not j\n",
    "\n",
    "- $<b_i, b_i>$ = 1"
   ]
  },
  {
   "cell_type": "markdown",
   "metadata": {},
   "source": [
    "## Orthogonal Complement\n",
    "> V(D) and sub space U(M)\n",
    "\n",
    "> Orthogonal Complement os (D -M)dimentional subspace of V\n",
    "- contains all vectors in V that are orthogonal to every vector in U"
   ]
  },
  {
   "cell_type": "markdown",
   "metadata": {},
   "source": [
    "- U $\\cap$ U(Orthogonal Complement) = {0}"
   ]
  },
  {
   "cell_type": "markdown",
   "metadata": {},
   "source": [
    "# Inner Prodcut of Functions \n",
    "- for vectors with finite number of entries \n",
    "- <u,v> = $\\int_a^b u(x)v(x)dx$"
   ]
  },
  {
   "cell_type": "markdown",
   "metadata": {},
   "source": [
    "# projection 부터 시작"
   ]
  },
  {
   "cell_type": "code",
   "execution_count": null,
   "metadata": {},
   "outputs": [],
   "source": []
  }
 ],
 "metadata": {
  "kernelspec": {
   "display_name": "Python 3",
   "language": "python",
   "name": "python3"
  },
  "language_info": {
   "codemirror_mode": {
    "name": "ipython",
    "version": 3
   },
   "file_extension": ".py",
   "mimetype": "text/x-python",
   "name": "python",
   "nbconvert_exporter": "python",
   "pygments_lexer": "ipython3",
   "version": "3.8.3"
  }
 },
 "nbformat": 4,
 "nbformat_minor": 4
}
